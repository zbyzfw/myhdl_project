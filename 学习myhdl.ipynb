{
 "cells": [
  {
   "cell_type": "code",
   "execution_count": 5,
   "metadata": {
    "collapsed": true
   },
   "outputs": [],
   "source": [
    "# 增加参数\n",
    "from myhdl import block, delay, instance,always,now,bin\n"
   ]
  },
  {
   "cell_type": "code",
   "execution_count": 2,
   "outputs": [],
   "source": [
    "@block\n",
    "def ClkDriver(clk, period=20):  # clk是时钟信号。信号参数是MyHDL建模DFN：port：的方法。第二个参数是时钟周期，默认值为20。\n",
    "    lowTime = int(period / 2)  # 时钟信号的低电平持续时间，等于周期的一半。\n",
    "    highTime = period - lowTime # 时钟信号的高电平持续时间，等于周期减去低电平持续时间。\n",
    "\n",
    "    @instance  ## 用于将一个函数转换为一个生成器，并重用函数的名称。\n",
    "    def drive_clk(): # 定义时钟驱动行为的函数\n",
    "        while True:\n",
    "            yield delay(lowTime) # 这是一个生成器表达式，表示暂停执行并等待lowTime个时间单位。\n",
    "            clk.next = 1 # 这是一个信号赋值语句，表示将时钟信号的下一个值设为1，即高电平。\n",
    "            yield delay(highTime) # 这是另一个生成器表达式，表示暂停执行并等待highTime个时间单位。\n",
    "            clk.next = 0 # 这是另一个信号赋值语句，表示将时钟信号的下一个值设为0，即低电平。\n",
    "\n",
    "    return drive_clk # 返回drive_clk生成器作为硬件模块的内容。\n"
   ],
   "metadata": {
    "collapsed": false
   }
  },
  {
   "cell_type": "code",
   "execution_count": 3,
   "outputs": [],
   "source": [
    "@block\n",
    "def Hello(clk, to=\"World!\"):\n",
    "\n",
    "    @always(clk.posedge)\n",
    "    def say_hello():\n",
    "        print(\"%s Hello %s\" % (now(), to))\n",
    "\n",
    "    return say_hello\n"
   ],
   "metadata": {
    "collapsed": false
   }
  },
  {
   "cell_type": "code",
   "execution_count": 6,
   "outputs": [
    {
     "name": "stdout",
     "output_type": "stream",
     "text": [
      "9 Hello MyHDL\n",
      "10 Hello World!\n",
      "28 Hello MyHDL\n",
      "30 Hello World!\n",
      "47 Hello MyHDL\n",
      "50 Hello World!\n"
     ]
    },
    {
     "name": "stderr",
     "output_type": "stream",
     "text": [
      "<class 'myhdl._SuspendSimulation'>: Simulated 50 timesteps\n"
     ]
    }
   ],
   "source": [
    "from myhdl import block, Signal\n",
    "\n",
    "@block\n",
    "def Greetings():\n",
    "\n",
    "    clk1 = Signal(0)\n",
    "    clk2 = Signal(0)\n",
    "\n",
    "    clkdriver_1 = ClkDriver(clk1)  # positional and default association\n",
    "    clkdriver_2 = ClkDriver(clk=clk2, period=19)  # named association\n",
    "    hello_1 = Hello(clk=clk1)  # named and default association\n",
    "    hello_2 = Hello(to=\"MyHDL\", clk=clk2)  # named association\n",
    "\n",
    "    return clkdriver_1, clkdriver_2, hello_1, hello_2\n",
    "\n",
    "\n",
    "inst = Greetings()\n",
    "inst.run_sim(50)\n"
   ],
   "metadata": {
    "collapsed": false
   }
  }
 ],
 "metadata": {
  "kernelspec": {
   "name": "myhdl",
   "language": "python",
   "display_name": "MyHDL"
  },
  "language_info": {
   "codemirror_mode": {
    "name": "ipython",
    "version": 2
   },
   "file_extension": ".py",
   "mimetype": "text/x-python",
   "name": "python",
   "nbconvert_exporter": "python",
   "pygments_lexer": "ipython2",
   "version": "2.7.6"
  }
 },
 "nbformat": 4,
 "nbformat_minor": 0
}
